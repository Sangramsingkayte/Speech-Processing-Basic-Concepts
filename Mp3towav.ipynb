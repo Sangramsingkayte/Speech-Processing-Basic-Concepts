{
 "cells": [
  {
   "cell_type": "code",
   "execution_count": 14,
   "id": "color-budapest",
   "metadata": {},
   "outputs": [
    {
     "data": {
      "text/plain": [
       "<_io.BufferedRandom name='1.wav'>"
      ]
     },
     "execution_count": 14,
     "metadata": {},
     "output_type": "execute_result"
    }
   ],
   "source": [
    "from os import path\n",
    "from pydub import AudioSegment\n",
    "\n",
    "# files                                                                         \n",
    "src = \"4065.mp3\"\n",
    "dst = \"1.wav\"\n",
    "\n",
    "# convert wav to mp3                                                            \n",
    "sound = AudioSegment.from_mp3(src)\n",
    "sound.export(dst, format=\"wav\")"
   ]
  },
  {
   "cell_type": "code",
   "execution_count": null,
   "id": "responsible-rough",
   "metadata": {},
   "outputs": [],
   "source": [
    "import os\n",
    "from pydub import AudioSegment\n",
    "\n",
    "path = \"CallHomeEnglish/Media\"\n",
    "\n",
    "#Change working directory\n",
    "os.chdir = \"CallHomeEnglish/New\"\n",
    "\n",
    "audio_files = os.listdir()\n",
    "\n",
    "# You dont need the number of files in the folder, just iterate over them directly using:\n",
    "for file in audio_files:\n",
    "    #spliting the file into the name and the extension\n",
    "    name, ext = os.path.splitext(file)\n",
    "    if ext == \".mp3\":\n",
    "       mp3_sound = AudioSegment.from_mp3(file)\n",
    "       #rename them using the old name + \".wav\"\n",
    "       mp3_sound.export(\"{0}.wav\".format(name), format=\"wav\")"
   ]
  },
  {
   "cell_type": "code",
   "execution_count": null,
   "id": "quality-cologne",
   "metadata": {},
   "outputs": [],
   "source": []
  },
  {
   "cell_type": "code",
   "execution_count": null,
   "id": "dangerous-guinea",
   "metadata": {},
   "outputs": [],
   "source": []
  }
 ],
 "metadata": {
  "kernelspec": {
   "display_name": "Python 3",
   "language": "python",
   "name": "python3"
  },
  "language_info": {
   "codemirror_mode": {
    "name": "ipython",
    "version": 3
   },
   "file_extension": ".py",
   "mimetype": "text/x-python",
   "name": "python",
   "nbconvert_exporter": "python",
   "pygments_lexer": "ipython3",
   "version": "3.8.5"
  }
 },
 "nbformat": 4,
 "nbformat_minor": 5
}
